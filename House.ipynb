{
 "cells": [
  {
   "cell_type": "code",
   "execution_count": null,
   "id": "5fc097b7-381c-4b2a-a80f-cf193e23e4ea",
   "metadata": {},
   "outputs": [],
   "source": [
    "import warnings\n",
    "warnings.filterwarnings(\"ignore\")\n",
    "import pandas as pd\n",
    "import numpy as np\n",
    "df = pd.read_csv('NY-House-Dataset.csv')\n",
    "df"
   ]
  },
  {
   "cell_type": "code",
   "execution_count": null,
   "id": "2501f72a-9a40-4896-82a4-6bc3c134940b",
   "metadata": {},
   "outputs": [],
   "source": [
    "print(df.shape)"
   ]
  },
  {
   "cell_type": "code",
   "execution_count": null,
   "id": "0fdf5bf4-fb6e-4fa1-ba8a-03ec477b791f",
   "metadata": {},
   "outputs": [],
   "source": [
    "df.nunique()"
   ]
  },
  {
   "cell_type": "code",
   "execution_count": null,
   "id": "db90dfe6-2e35-4faa-aeab-6ecd44ee2785",
   "metadata": {},
   "outputs": [],
   "source": [
    "df.dropna(inplace=True)\n",
    "df"
   ]
  },
  {
   "cell_type": "code",
   "execution_count": null,
   "id": "ec8388aa-46eb-47f1-ac98-68955988461d",
   "metadata": {},
   "outputs": [],
   "source": [
    "df = pd.get_dummies(df,dtype='int')\n",
    "df"
   ]
  },
  {
   "cell_type": "code",
   "execution_count": null,
   "id": "694bae36-b22d-47e2-a7ac-d319d9458775",
   "metadata": {},
   "outputs": [],
   "source": [
    "X = df.drop(columns=['PRICE'])\n",
    "Y = df['PRICE']\n",
    "X\n",
    "Y"
   ]
  },
  {
   "cell_type": "code",
   "execution_count": null,
   "id": "407ffb1e-57d0-4f5c-ba04-c8aa8a547c6c",
   "metadata": {},
   "outputs": [],
   "source": [
    "from sklearn.model_selection import train_test_split\n",
    "X_train,X_test,Y_train,Y_test = train_test_split(X,Y,test_size=0.5)"
   ]
  },
  {
   "cell_type": "code",
   "execution_count": null,
   "id": "32a3387c-bb95-4356-9673-7c2069ec2376",
   "metadata": {},
   "outputs": [],
   "source": [
    "from sklearn.linear_model import LinearRegression\n",
    "model = LinearRegression()\n",
    "model.fit(X_train,Y_train)"
   ]
  },
  {
   "cell_type": "code",
   "execution_count": null,
   "id": "34fe1720-fd53-43e8-a89e-5157983a9c8e",
   "metadata": {},
   "outputs": [],
   "source": [
    "model.score(X_train,Y_train)"
   ]
  },
  {
   "cell_type": "code",
   "execution_count": null,
   "id": "9a1658ba-7d18-411d-93a3-4330e5424081",
   "metadata": {},
   "outputs": [],
   "source": [
    "model.score(X_test,Y_test)"
   ]
  },
  {
   "cell_type": "code",
   "execution_count": null,
   "id": "c2a87104-ee48-4e24-aa5c-96c4ccb76632",
   "metadata": {},
   "outputs": [],
   "source": [
    "from sklearn.linear_model import Lasso\n",
    "model_las = Lasso(alpha = 50,max_iter = 100,tol = 0.1)"
   ]
  },
  {
   "cell_type": "code",
   "execution_count": null,
   "id": "de3a7efd-5e94-4bd9-860d-51d70245b273",
   "metadata": {},
   "outputs": [],
   "source": [
    "model_las.fit(X_train,Y_train)"
   ]
  },
  {
   "cell_type": "code",
   "execution_count": null,
   "id": "995ecc50-c6b0-4e38-9513-0a9be68fe028",
   "metadata": {},
   "outputs": [],
   "source": [
    "model_las.score(X_train,Y_train)"
   ]
  },
  {
   "cell_type": "code",
   "execution_count": null,
   "id": "748a7c7d-7bfb-45ca-97ce-5875250c4629",
   "metadata": {},
   "outputs": [],
   "source": [
    "model_las.score(X_test,Y_test)"
   ]
  },
  {
   "cell_type": "code",
   "execution_count": null,
   "id": "0982696f-9297-4877-bb11-76ed54638f68",
   "metadata": {},
   "outputs": [],
   "source": [
    "from sklearn.linear_model import Ridge\n",
    "model_reg  = Ridge(alpha = 1,max_iter = 1,tol = 0.001)"
   ]
  },
  {
   "cell_type": "code",
   "execution_count": null,
   "id": "742c3977-e197-46a6-a0ec-bd4bc3cbdd73",
   "metadata": {},
   "outputs": [],
   "source": [
    "model_reg.fit(X_train,Y_train)"
   ]
  },
  {
   "cell_type": "code",
   "execution_count": null,
   "id": "7be41216-aefe-40c8-a007-25f19256be4d",
   "metadata": {},
   "outputs": [],
   "source": [
    "model_reg.score(X_train,Y_train)"
   ]
  },
  {
   "cell_type": "code",
   "execution_count": null,
   "id": "8a15b5ea-fe18-473d-99b4-3cb4d4092756",
   "metadata": {},
   "outputs": [],
   "source": [
    "model_reg.score(X_test,Y_test)"
   ]
  },
  {
   "cell_type": "code",
   "execution_count": null,
   "id": "d5a5c7a3-42f2-4ce1-8711-6733b1df9b52",
   "metadata": {},
   "outputs": [],
   "source": []
  }
 ],
 "metadata": {
  "kernelspec": {
   "display_name": "Python 3 (ipykernel)",
   "language": "python",
   "name": "python3"
  },
  "language_info": {
   "codemirror_mode": {
    "name": "ipython",
    "version": 3
   },
   "file_extension": ".py",
   "mimetype": "text/x-python",
   "name": "python",
   "nbconvert_exporter": "python",
   "pygments_lexer": "ipython3",
   "version": "3.12.1"
  }
 },
 "nbformat": 4,
 "nbformat_minor": 5
}
